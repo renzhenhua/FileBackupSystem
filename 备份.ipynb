{
 "cells": [
  {
   "cell_type": "code",
   "execution_count": 7,
   "metadata": {},
   "outputs": [],
   "source": [
    "# -*- coding：utf-8 -*-\n",
    "import hashlib\n",
    "import os\n",
    "from tkinter import *\n",
    "from tkinter import messagebox \n",
    "import subprocess"
   ]
  },
  {
   "cell_type": "code",
   "execution_count": 8,
   "metadata": {},
   "outputs": [],
   "source": [
    "def use_exe(source):\n",
    "    path=r\"packfile\\x64\\Debug\\packfile.exe\"\n",
    "    p=subprocess.Popen(path,stdin=subprocess.PIPE,stdout=subprocess.PIPE)\n",
    "    result=p.communicate(input=source.encode())\n",
    "    return result[0].decode('gbk')"
   ]
  },
  {
   "cell_type": "code",
   "execution_count": 29,
   "metadata": {},
   "outputs": [
    {
     "name": "stdout",
     "output_type": "stream",
     "text": [
      "Users\\liaoz\\Desktop\\hh\n"
     ]
    }
   ],
   "source": [
    "path=r\"C:\\Users\\liaoz\\Desktop\\hh\"\n",
    "print(path[3:])"
   ]
  },
  {
   "cell_type": "code",
   "execution_count": null,
   "metadata": {},
   "outputs": [],
   "source": []
  }
 ],
 "metadata": {
  "kernelspec": {
   "display_name": "Python 3",
   "language": "python",
   "name": "python3"
  },
  "language_info": {
   "codemirror_mode": {
    "name": "ipython",
    "version": 3
   },
   "file_extension": ".py",
   "mimetype": "text/x-python",
   "name": "python",
   "nbconvert_exporter": "python",
   "pygments_lexer": "ipython3",
   "version": "3.7.0"
  }
 },
 "nbformat": 4,
 "nbformat_minor": 4
}
