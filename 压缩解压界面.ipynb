{
 "cells": [
  {
   "cell_type": "code",
   "execution_count": 7,
   "metadata": {},
   "outputs": [],
   "source": [
    "from tkinter import *\n",
    "from tkinter import messagebox \n",
    "import subprocess\n",
    "import hashlib\n",
    "import os"
   ]
  },
  {
   "cell_type": "markdown",
   "metadata": {},
   "source": [
    "头文件"
   ]
  },
  {
   "cell_type": "code",
   "execution_count": 8,
   "metadata": {},
   "outputs": [],
   "source": [
    "def use_exe(source):\n",
    "    path=r\"packfile\\x64\\Debug\\packfile.exe\"\n",
    "    p=subprocess.Popen(path,stdin=subprocess.PIPE,stdout=subprocess.PIPE)\n",
    "    result=p.communicate(input=source)\n",
    "    return result[0].decode('gbk')"
   ]
  },
  {
   "cell_type": "markdown",
   "metadata": {},
   "source": [
    "调用解压压缩的exe"
   ]
  },
  {
   "cell_type": "code",
   "execution_count": 9,
   "metadata": {},
   "outputs": [],
   "source": [
    "def use_exe1(source):\n",
    "    path=r\"dio.exe\"\n",
    "    p=subprocess.Popen(path,stdin=subprocess.PIPE,stdout=subprocess.PIPE)\n",
    "    result=p.communicate(input=source)\n",
    "    return result[0].decode('gbk')"
   ]
  },
  {
   "cell_type": "markdown",
   "metadata": {},
   "source": [
    "调用信息校验的exe"
   ]
  },
  {
   "cell_type": "code",
   "execution_count": 10,
   "metadata": {},
   "outputs": [],
   "source": [
    "def use_exe2(source):\n",
    "    path=r\"main.exe\"\n",
    "    p=subprocess.Popen(path,stdin=subprocess.PIPE,stdout=subprocess.PIPE)\n",
    "    result=p.communicate(input=source)\n",
    "    return result[0].decode('gbk')"
   ]
  },
  {
   "cell_type": "markdown",
   "metadata": {},
   "source": [
    "调用压缩解压的exe"
   ]
  },
  {
   "cell_type": "code",
   "execution_count": 54,
   "metadata": {},
   "outputs": [],
   "source": [
    "class Text_input(Frame):\n",
    "    \n",
    "    \n",
    "    def __init__(rt,master=None):\n",
    "        super().__init__(master)\n",
    "        rt.master=master\n",
    "        rt.id=\"\"  #操作类型\n",
    "        rt.path=\"\"#路径\n",
    "        rt.save=\"\"#存储地址\n",
    "        rt.pack()\n",
    "        rt.create()\n",
    "        \n",
    "    \n",
    "    def create(rt):\n",
    "        rt.label01=Label(rt,text=\"文件的所在路径\")\n",
    "        rt.label01.pack()\n",
    "        v1=StringVar()\n",
    "        rt.entry01=Entry(rt,textvariable=v1)\n",
    "        rt.entry01.pack()\n",
    "        \n",
    "        #输入存储路径\n",
    "        rt.label02=Label(rt,text=\"文件的存储路径\")\n",
    "        rt.label02.pack()\n",
    "        v2=StringVar()\n",
    "        rt.entry02=Entry(rt,textvariable=v2)\n",
    "        rt.entry02.pack()\n",
    "        \n",
    "        #确认提交按钮\n",
    "        rt.btn=Button(rt,text=\"确认\",command=rt.login)\n",
    "        rt.btn.pack()\n",
    "    \n",
    "    def login(rt):\n",
    "        rt.path=rt.entry01.get()\n",
    "        rt.save=rt.entry02.get()\n",
    "        hh='\\n'\n",
    "        \n",
    "        ans=\"\"\n",
    "        ans1=\"\"\n",
    "        res=\"\"\n",
    "        \n",
    "        source=rt.id+hh+rt.path+hh+rt.save\n",
    "        #print(source)\n",
    "        #source为输入\n",
    "        \n",
    "        if rt.id=='1':\n",
    "            ans=use_exe(source.encode())\n",
    "            if rt.id=='1':    \n",
    "                new_path = \"C:\\\\new_document\"\n",
    "                if not os.path.exists(new_path):\n",
    "                    os.makedirs(new_path)\n",
    "                source1='2'+hh+rt.save+\"\\\\.KCS0075\"+hh+new_path+'\\\\'\n",
    "                ans1=use_exe(source1.encode())\n",
    "                print(ans1)\n",
    "                ans1=use_exe1(rt.path.encode())\n",
    "                print(ans1[25:])\n",
    "                res=ans1[25:]\n",
    "            \n",
    "            source='1'+hh+rt.save+'\\\\'+hh+rt.save\n",
    "            ans=ans+use_exe2(source.encode())\n",
    "            source=rt.save+\".KCS0075\"\n",
    "            os.remove(source)\n",
    "         \n",
    "        if rt.id=='2':\n",
    "            source='2'+hh+rt.path+hh+rt.path\n",
    "            print(source)\n",
    "            ans=use_exe2(source.encode())\n",
    "            \n",
    "            source='2'+hh+rt.save+\"\\\\.KCS0075\"+hh+rt.save\n",
    "            ans=ans+use_exe(source.encode())\n",
    "            \n",
    "            source=rt.path+\"ys.tar\"\n",
    "            os.remove(source)\n",
    "            source=rt.path+\".txt\"\n",
    "            os.remove(source)\n",
    "            source=rt.path+\".KCS0075\"\n",
    "            os.remove(source)\n",
    "            #source=rt.save+\"\\\\.KCS0075\"\n",
    "            #os.remove(source)\n",
    "        \n",
    "        \n",
    "        print(res)\n",
    "        ans=ans+'\\n'+res\n",
    "        print(ans)\n",
    "        messagebox.showinfo(\"Message\",ans)"
   ]
  },
  {
   "cell_type": "markdown",
   "metadata": {},
   "source": [
    "输入路径和存放路径窗口"
   ]
  },
  {
   "cell_type": "code",
   "execution_count": 55,
   "metadata": {},
   "outputs": [],
   "source": [
    "class Application(Frame):\n",
    "    def __init__(self,master=None):\n",
    "        super().__init__(master)\n",
    "        self.master=master\n",
    "        self.pack()\n",
    "        self.createWidge()\n",
    "        self.path=\"\"\n",
    "        self.save=\"\"\n",
    "    \n",
    "    def createWidge(self):\n",
    "        self.btn01=Button(self,text =\"打包\",width=6,height=3,command =self.login1)\n",
    "        self.btn01.pack(padx=50,pady=50)\n",
    "        \n",
    "        \n",
    "        self.btn02=Button(self,text =\"解包\",width=6,height=3,command =self.login2)\n",
    "        self.btn02.pack(padx=10,pady=10)\n",
    "   \n",
    "    \n",
    "    \n",
    "    def login1(self):\n",
    "        Rt1=Tk()\n",
    "        Rt1.title(\"打包\")\n",
    "        Rt1.geometry(\"300x120+600+300\")\n",
    "        Text1=Text_input(master=Rt1)\n",
    "        Text1.id=\"1\"\n",
    "        Rt1.mainloop()\n",
    "        \n",
    "    def login2(self):\n",
    "        Rt2=Tk()\n",
    "        Rt2.title(\"解包\")\n",
    "        Rt2.geometry(\"300x120+600+300\")\n",
    "        Text2=Text_input(master=Rt2)\n",
    "        Text2.id=\"2\"\n",
    "        Rt2.mainloop()\n",
    "    "
   ]
  },
  {
   "cell_type": "markdown",
   "metadata": {},
   "source": [
    "将GUI类封装"
   ]
  },
  {
   "cell_type": "code",
   "execution_count": null,
   "metadata": {},
   "outputs": [
    {
     "name": "stdout",
     "output_type": "stream",
     "text": [
      "\f",
      "正在解包...\n",
      "--------------------------------------\n",
      "1.txt\t3 B\n",
      "2.txt\t4 B\n",
      "--------------------------------------\n",
      "解包完成！\n",
      "\n",
      "\n",
      "文件校验完毕\n",
      "\n",
      "\n",
      "文件校验完毕\n",
      "\n",
      "\f",
      "正在打包...\n",
      "---------------------------------------------------\n",
      "1.txt\t3 B\n",
      "2.txt\t4 B\n",
      "---------------------------------------------------\n",
      "打包完成!\n",
      "完成!\n",
      "\n",
      "\n",
      "\n",
      "文件校验完毕\n",
      "\n",
      "2\n",
      "C:\\Users\\liaoz\\Desktop\\gg\\\n",
      "C:\\Users\\liaoz\\Desktop\\gg\\\n",
      "\n",
      "完成!\n",
      "\n",
      "\f",
      "正在解包...\n",
      "--------------------------------------\n",
      "1.txt\t3 B\n",
      "2.txt\t4 B\n",
      "--------------------------------------\n",
      "解包完成！\n",
      "\n",
      "\n"
     ]
    }
   ],
   "source": [
    "root=Tk()\n",
    "root.title(\"压缩解压\")\n",
    "root.geometry(\"500x300+100+200\")\n",
    "app=Application(master=root)\n",
    "root.mainloop()"
   ]
  },
  {
   "cell_type": "code",
   "execution_count": null,
   "metadata": {},
   "outputs": [],
   "source": []
  },
  {
   "cell_type": "code",
   "execution_count": null,
   "metadata": {},
   "outputs": [],
   "source": []
  }
 ],
 "metadata": {
  "kernelspec": {
   "display_name": "Python 3",
   "language": "python",
   "name": "python3"
  },
  "language_info": {
   "codemirror_mode": {
    "name": "ipython",
    "version": 3
   },
   "file_extension": ".py",
   "mimetype": "text/x-python",
   "name": "python",
   "nbconvert_exporter": "python",
   "pygments_lexer": "ipython3",
   "version": "3.7.0"
  }
 },
 "nbformat": 4,
 "nbformat_minor": 4
}
